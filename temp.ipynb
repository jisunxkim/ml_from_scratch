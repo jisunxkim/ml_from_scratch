{
 "cells": [
  {
   "cell_type": "code",
   "execution_count": 4,
   "metadata": {},
   "outputs": [],
   "source": [
    "from util_download_data_from_url import download_data_from_url\n",
    "import numpy as np\n",
    "from sklearn.feature_extraction.text import CountVectorizer\n",
    "from sklearn.naive_bayes import MultinomialNB\n",
    "from sklearn.model_selection import train_test_split\n",
    "import pandas as pd "
   ]
  },
  {
   "cell_type": "code",
   "execution_count": 8,
   "metadata": {},
   "outputs": [
    {
     "data": {
      "text/plain": [
       "array([['ham',\n",
       "        \"Call me when you/carlos is/are here, my phone's vibrate is acting up and I might not hear texts\"],\n",
       "       ['spam',\n",
       "        \"For ur chance to win a £250 cash every wk TXT: ACTION to 80608. T's&C's www.movietrivia.tv custcare 08712405022, 1x150p/wk\"]],\n",
       "      dtype=object)"
      ]
     },
     "execution_count": 8,
     "metadata": {},
     "output_type": "execute_result"
    }
   ],
   "source": [
    "data = pd.read_csv(\"../tmp/mail_spam_ham_data.csv\")\n",
    "train_data, test_data = train_test_split(data.values, test_size=0.2)\n",
    "train_data[0:2, :]"
   ]
  },
  {
   "cell_type": "code",
   "execution_count": 7,
   "metadata": {},
   "outputs": [],
   "source": [
    "X = train_data[:, 1]\n",
    "y = train_data[:, 0]"
   ]
  },
  {
   "cell_type": "code",
   "execution_count": 36,
   "metadata": {},
   "outputs": [
    {
     "name": "stdout",
     "output_type": "stream",
     "text": [
      "22\n",
      "dict_keys(['reverse', 'is', 'cheating', 'that', 'not', 'mathematics', 'reverse is', 'is cheating', 'cheating that', 'that is', 'is not', 'not mathematics', 'what', 'time', 'ur', 'flight', 'tmr', 'what time', 'time is', 'is ur', 'ur flight', 'flight tmr'])\n",
      "{'reverse': 11, 'is': 4, 'cheating': 0, 'that': 13, 'not': 9, 'mathematics': 8, 'reverse is': 12, 'is cheating': 5, 'cheating that': 1, 'that is': 14, 'is not': 6, 'not mathematics': 10, 'what': 20, 'time': 15, 'ur': 18, 'flight': 2, 'tmr': 17, 'what time': 21, 'time is': 16, 'is ur': 7, 'ur flight': 19, 'flight tmr': 3}\n",
      "['Reverse is cheating. That is not mathematics.'\n",
      " 'What time is ur flight tmr?']\n"
     ]
    }
   ],
   "source": [
    "vectorizer = CountVectorizer(ngram_range=(1,2))\n",
    "vectorizer.fit(X[:2])\n",
    "voca = vectorizer.vocabulary_\n",
    "print(len(voca))\n",
    "print(voca.keys())\n",
    "print(voca)\n",
    "print(X[:2])"
   ]
  },
  {
   "cell_type": "code",
   "execution_count": 31,
   "metadata": {},
   "outputs": [
    {
     "name": "stdout",
     "output_type": "stream",
     "text": [
      "(10, 5)\n",
      "  (0, 0)\t1\n",
      "  (0, 2)\t1\n",
      "  (0, 3)\t1\n",
      "  (1, 1)\t1\n",
      "  (1, 4)\t1\n",
      "[[1 0 1 1 0]\n",
      " [0 1 0 0 1]\n",
      " [0 0 0 0 0]\n",
      " [0 0 0 0 0]\n",
      " [0 0 0 0 0]\n",
      " [0 0 0 0 0]\n",
      " [0 0 0 0 0]\n",
      " [0 0 0 0 0]\n",
      " [0 0 0 0 0]\n",
      " [0 0 0 0 0]]\n"
     ]
    }
   ],
   "source": [
    "X_vectors = vectorizer.transform(X[:10])\n",
    "print(X_vectors.shape)\n",
    "print(X_vectors)\n",
    "print(X_vectors.toarray())"
   ]
  },
  {
   "cell_type": "code",
   "execution_count": 27,
   "metadata": {},
   "outputs": [
    {
     "data": {
      "text/plain": [
       "array([[1, 0, 2, 1, 1],\n",
       "       [0, 1, 1, 0, 0],\n",
       "       [0, 0, 0, 0, 0],\n",
       "       [0, 0, 0, 0, 0],\n",
       "       [0, 0, 0, 0, 0],\n",
       "       [0, 0, 0, 0, 0],\n",
       "       [0, 0, 0, 0, 0],\n",
       "       [0, 0, 0, 0, 0],\n",
       "       [0, 0, 0, 0, 0],\n",
       "       [0, 0, 0, 0, 0]])"
      ]
     },
     "execution_count": 27,
     "metadata": {},
     "output_type": "execute_result"
    }
   ],
   "source": []
  },
  {
   "cell_type": "code",
   "execution_count": null,
   "metadata": {},
   "outputs": [],
   "source": []
  }
 ],
 "metadata": {
  "kernelspec": {
   "display_name": "ds",
   "language": "python",
   "name": "python3"
  },
  "language_info": {
   "codemirror_mode": {
    "name": "ipython",
    "version": 3
   },
   "file_extension": ".py",
   "mimetype": "text/x-python",
   "name": "python",
   "nbconvert_exporter": "python",
   "pygments_lexer": "ipython3",
   "version": "3.9.16"
  }
 },
 "nbformat": 4,
 "nbformat_minor": 2
}
