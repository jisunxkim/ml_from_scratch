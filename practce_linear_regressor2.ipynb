{
 "cells": [
  {
   "cell_type": "code",
   "execution_count": 79,
   "metadata": {},
   "outputs": [],
   "source": [
    "from ml_scratch__generate_dataset import gen_regression_data\n",
    "import matplotlib.pyplot as plt\n",
    "import numpy as np"
   ]
  },
  {
   "cell_type": "markdown",
   "metadata": {},
   "source": []
  },
  {
   "cell_type": "code",
   "execution_count": 9,
   "metadata": {},
   "outputs": [],
   "source": [
    "# generate data\n",
    "X, y, weights = gen_regression_data(m=10, n=3)"
   ]
  },
  {
   "cell_type": "code",
   "execution_count": 105,
   "metadata": {},
   "outputs": [],
   "source": [
    "from example_deep_learning_ann import learning_rate\n",
    "\n",
    "\n",
    "class LinearRegressor():\n",
    "    def __init__(self, sample_size=None, n_features=None, \n",
    "                 learning_rate=0.0001, n_iters=1, early_stop = 2):\n",
    "        self.weights = None \n",
    "        self.bias = None \n",
    "        self.m = sample_size \n",
    "        self.n = n_features \n",
    "        self.LearningRate = learning_rate \n",
    "        self.n_iters = n_iters\n",
    "        self.early_stop = early_stop\n",
    "        self.loss_history = []\n",
    "\n",
    "       \n",
    "    def initialize(self, random_seed = 1):\n",
    "        np.random.seed(random_seed)\n",
    "        self.weights = np.random.randn(self.n, 1)*0.1\n",
    "        self.bias = 0\n",
    "        self.loss_history = []\n",
    "    \n",
    "    def calculate_loss(self, y, y_pred):\n",
    "        \" 1/m sum (y_pred - y)**2\"\n",
    "        _loss = 1/2 * np.mean((y_pred - y)**2)\n",
    "        return _loss \n",
    "    \n",
    "    def get_gradients(self, X, y, y_pred):\n",
    "        \"\"\"\n",
    "        y_pred = Wx + b\n",
    "        L = 1/2m * sum((y_pred - y)**2)\n",
    "        dw = 1/m sum[(y_pred-y)*x] \n",
    "        db = 1/m sum[(y_pred-y)]\n",
    "        \"\"\" \n",
    "        dw = np.mean((y_pred - y)*X, axis=1, keepdims=True) #(n, 1)\n",
    "        db = np.mean((y_pred - y), axis=1, keepdims=True)\n",
    "        return dw, db \n",
    "    \n",
    "    def update_parameters(self, dw, db):\n",
    "        self.weights -= self.LearningRate*dw \n",
    "        self.bias -= self.LearningRate*db \n",
    "    \n",
    "    def predict(self, X):\n",
    "        return np.dot(self.weights.T, X) + self.bias \n",
    "\n",
    "        \n",
    "    def train(self, X, y, n_iters=None, learning_rate=None, early_stop=None):\n",
    "        \"\"\"\n",
    "        X: (features, observations)\n",
    "        y: (1, observartions)\n",
    "        \"\"\"\n",
    "        X = X.T\n",
    "        self.n, self.m = X.shape \n",
    "        if n_iters:\n",
    "            self.n_iters = n_iters \n",
    "        if learning_rate:\n",
    "            self.LearningRate = learning_rate\n",
    "        if early_stop:\n",
    "            self.early_stop = early_stop\n",
    "        \n",
    "        self.initialize()\n",
    "        \n",
    "        y_pred = self.predict(X)\n",
    "        loss = self.calculate_loss(y, y_pred)\n",
    "        self.loss_history.append(loss)\n",
    "        \n",
    "        print(f\"-- epoch:{0}, loss:{loss:0.4f}\")\n",
    "        early_stop = 0 \n",
    "        \n",
    "        for epoch in range(1, self.n_iters+1):\n",
    "            dw, db = self.get_gradients(X, y, y_pred)\n",
    "            self.update_parameters(dw, db)\n",
    "            y_pred = self.predict(X)\n",
    "            loss = self.calculate_loss(y, y_pred)\n",
    "            self.loss_history.append(loss)\n",
    "            if epoch % 10 == 0 or epoch == self.n_iters:\n",
    "                print(f\"-- epoch:{epoch}, loss:{loss:0.4f}\") \n",
    "            \n",
    "            if self.loss_history[-1] >= self.loss_history[-2]:\n",
    "                early_stop += 1\n",
    "            if early_stop >= self.early_stop:\n",
    "                print(f\"Stoping early as it meet the condition.\")\n",
    "                break "
   ]
  },
  {
   "cell_type": "code",
   "execution_count": 110,
   "metadata": {},
   "outputs": [
    {
     "name": "stdout",
     "output_type": "stream",
     "text": [
      "-- epoch:0, loss:755.1398\n",
      "-- epoch:10, loss:0.2407\n",
      "-- epoch:20, loss:0.0433\n",
      "-- epoch:30, loss:0.0430\n",
      "-- epoch:40, loss:0.0430\n",
      "-- epoch:50, loss:0.0429\n",
      "-- epoch:60, loss:0.0429\n",
      "-- epoch:70, loss:0.0429\n",
      "-- epoch:80, loss:0.0428\n",
      "-- epoch:90, loss:0.0428\n",
      "-- epoch:100, loss:0.0427\n",
      "-- epoch:110, loss:0.0427\n",
      "-- epoch:120, loss:0.0426\n",
      "-- epoch:130, loss:0.0426\n",
      "-- epoch:140, loss:0.0426\n",
      "-- epoch:150, loss:0.0425\n",
      "-- epoch:160, loss:0.0425\n",
      "-- epoch:170, loss:0.0424\n",
      "-- epoch:180, loss:0.0424\n",
      "-- epoch:190, loss:0.0423\n",
      "-- epoch:200, loss:0.0423\n",
      "-- epoch:210, loss:0.0423\n",
      "-- epoch:220, loss:0.0422\n",
      "-- epoch:230, loss:0.0422\n",
      "-- epoch:240, loss:0.0421\n",
      "-- epoch:250, loss:0.0421\n",
      "-- epoch:260, loss:0.0420\n",
      "-- epoch:270, loss:0.0420\n",
      "-- epoch:280, loss:0.0420\n",
      "-- epoch:290, loss:0.0419\n",
      "-- epoch:300, loss:0.0419\n",
      "-- epoch:310, loss:0.0418\n",
      "-- epoch:320, loss:0.0418\n",
      "-- epoch:330, loss:0.0418\n",
      "-- epoch:340, loss:0.0417\n",
      "-- epoch:350, loss:0.0417\n",
      "-- epoch:360, loss:0.0416\n",
      "-- epoch:370, loss:0.0416\n",
      "-- epoch:380, loss:0.0415\n",
      "-- epoch:390, loss:0.0415\n",
      "-- epoch:400, loss:0.0415\n",
      "-- epoch:410, loss:0.0414\n",
      "-- epoch:420, loss:0.0414\n",
      "-- epoch:430, loss:0.0413\n",
      "-- epoch:440, loss:0.0413\n",
      "-- epoch:450, loss:0.0413\n",
      "-- epoch:460, loss:0.0412\n",
      "-- epoch:470, loss:0.0412\n",
      "-- epoch:480, loss:0.0411\n",
      "-- epoch:490, loss:0.0411\n",
      "-- epoch:500, loss:0.0411\n",
      "-- epoch:510, loss:0.0410\n",
      "-- epoch:520, loss:0.0410\n",
      "-- epoch:530, loss:0.0409\n",
      "-- epoch:540, loss:0.0409\n",
      "-- epoch:550, loss:0.0408\n",
      "-- epoch:560, loss:0.0408\n",
      "-- epoch:570, loss:0.0408\n",
      "-- epoch:580, loss:0.0407\n",
      "-- epoch:590, loss:0.0407\n",
      "-- epoch:600, loss:0.0406\n",
      "-- epoch:610, loss:0.0406\n",
      "-- epoch:620, loss:0.0406\n",
      "-- epoch:630, loss:0.0405\n",
      "-- epoch:640, loss:0.0405\n",
      "-- epoch:650, loss:0.0404\n",
      "-- epoch:660, loss:0.0404\n",
      "-- epoch:670, loss:0.0404\n",
      "-- epoch:680, loss:0.0403\n",
      "-- epoch:690, loss:0.0403\n",
      "-- epoch:700, loss:0.0402\n",
      "-- epoch:710, loss:0.0402\n",
      "-- epoch:720, loss:0.0402\n",
      "-- epoch:730, loss:0.0401\n",
      "-- epoch:740, loss:0.0401\n",
      "-- epoch:750, loss:0.0400\n",
      "-- epoch:760, loss:0.0400\n",
      "-- epoch:770, loss:0.0400\n",
      "-- epoch:780, loss:0.0399\n",
      "-- epoch:790, loss:0.0399\n",
      "-- epoch:800, loss:0.0398\n",
      "-- epoch:810, loss:0.0398\n",
      "-- epoch:820, loss:0.0398\n",
      "-- epoch:830, loss:0.0397\n",
      "-- epoch:840, loss:0.0397\n",
      "-- epoch:850, loss:0.0396\n",
      "-- epoch:860, loss:0.0396\n",
      "-- epoch:870, loss:0.0396\n",
      "-- epoch:880, loss:0.0395\n",
      "-- epoch:890, loss:0.0395\n",
      "-- epoch:900, loss:0.0394\n",
      "-- epoch:910, loss:0.0394\n",
      "-- epoch:920, loss:0.0394\n",
      "-- epoch:930, loss:0.0393\n",
      "-- epoch:940, loss:0.0393\n",
      "-- epoch:950, loss:0.0393\n",
      "-- epoch:960, loss:0.0392\n",
      "-- epoch:970, loss:0.0392\n",
      "-- epoch:980, loss:0.0391\n",
      "-- epoch:990, loss:0.0391\n",
      "-- epoch:1000, loss:0.0391\n"
     ]
    }
   ],
   "source": [
    "ll = LinearRegressor(n_iters=1000, learning_rate=0.0001,early_stop=2)\n",
    "ll.train(X,y)\n"
   ]
  },
  {
   "cell_type": "code",
   "execution_count": 111,
   "metadata": {},
   "outputs": [
    {
     "name": "stdout",
     "output_type": "stream",
     "text": [
      "(10,) (10,)\n"
     ]
    },
    {
     "data": {
      "image/png": "[encoded data removed]",
      "text/plain": [
       "<Figure size 640x480 with 1 Axes>"
      ]
     },
     "metadata": {},
     "output_type": "display_data"
    }
   ],
   "source": [
    "y_pred = ll.predict(X.T).flatten()\n",
    "print(y.shape, y_pred.shape)\n",
    "plt.scatter(x=y, y=y_pred)\n",
    "plt.show()\n"
   ]
  },
  {
   "cell_type": "code",
   "execution_count": 112,
   "metadata": {},
   "outputs": [
    {
     "name": "stdout",
     "output_type": "stream",
     "text": [
      "[[0.72302464]\n",
      " [0.00191251]\n",
      " [0.29785493]] [[0.02115038]]\n",
      "[0.417 0.72  0.    0.302]\n"
     ]
    }
   ],
   "source": [
    "print(ll.weights, ll.bias)\n",
    "print(weights)"
   ]
  },
  {
   "cell_type": "code",
   "execution_count": 113,
   "metadata": {},
   "outputs": [
    {
     "data": {
      "text/plain": [
       "0.07811542071202249"
      ]
     },
     "execution_count": 113,
     "metadata": {},
     "output_type": "execute_result"
    }
   ],
   "source": [
    "from sklearn.metrics import mean_squared_error\n",
    "mean_squared_error(y_true=y, y_pred=y_pred)"
   ]
  },
  {
   "cell_type": "code",
   "execution_count": null,
   "metadata": {},
   "outputs": [],
   "source": []
  }
 ],
 "metadata": {
  "kernelspec": {
   "display_name": "ds",
   "language": "python",
   "name": "python3"
  },
  "language_info": {
   "codemirror_mode": {
    "name": "ipython",
    "version": 3
   },
   "file_extension": ".py",
   "mimetype": "text/x-python",
   "name": "python",
   "nbconvert_exporter": "python",
   "pygments_lexer": "ipython3",
   "version": "3.10.13"
  }
 },
 "nbformat": 4,
 "nbformat_minor": 2
}
