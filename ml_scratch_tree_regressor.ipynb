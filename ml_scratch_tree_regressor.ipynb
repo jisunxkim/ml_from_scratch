{
 "cells": [
  {
   "cell_type": "code",
   "execution_count": 2,
   "metadata": {},
   "outputs": [],
   "source": [
    "from sklearn.datasets import make_regression\n",
    "X, y = make_regression(\n",
    "    n_samples=10, n_features=3, random_state=1, noise=1)\n",
    "\n",
    "feature_names = ['f_' + str(i) for i in range(3)]"
   ]
  },
  {
   "cell_type": "code",
   "execution_count": 3,
   "metadata": {},
   "outputs": [
    {
     "name": "stdout",
     "output_type": "stream",
     "text": [
      "split features: f_1\n",
      "split threshold: -0.286\n",
      "left node prediction: -25.173\n",
      "right node prediction: 25.226\n"
     ]
    }
   ],
   "source": [
    "# using numpy\n",
    "import numpy as np \n",
    "\n",
    "class TreeRegressor_numpy:\n",
    "    def __init__(self, max_depth=1, splitter='mse'):\n",
    "        self.max_depth = max_depth\n",
    "        self.splitter = splitter\n",
    "        self.initialize()\n",
    "    \n",
    "    def initialize(self):\n",
    "        self.split_score = float('inf')\n",
    "        self.split_threshold = None\n",
    "        self.split_left_pred = None\n",
    "        self.split_right_pred = None\n",
    "        self.split_feature = None\n",
    "        \n",
    "    def mse(self, y, y_pred):\n",
    "        return np.mean((y - y_pred)**2, axis=1)\n",
    "    \n",
    "    def make_split_feature(self, X, y):\n",
    "        thresholds = [None]*(len(X) - 1)\n",
    "        for idx in range(len(X)-1):\n",
    "            sorted_X = sorted(X)\n",
    "            thresholds[idx] = (sorted_X[idx+1] + sorted_X[idx]) / 2\n",
    "        \n",
    "        split_score = float('inf')\n",
    "        split_threshold = None\n",
    "        split_left_pred = None\n",
    "        split_right_pred = None\n",
    "                \n",
    "        for threshold in thresholds:\n",
    "            left = []\n",
    "            right = []\n",
    "            for idx, val in enumerate(X):\n",
    "                if val < threshold:\n",
    "                    left.append(idx)\n",
    "                else:\n",
    "                    right.append(idx)\n",
    "\n",
    "            left_node_pred = np.mean([y[i] for i in left])\n",
    "            rigth_node_pred = np.mean([y[i] for i in right])\n",
    "            \n",
    "            y_pred = []\n",
    "            for idx, val in enumerate(X):\n",
    "                if val < threshold:\n",
    "                    y_pred.append(left_node_pred)\n",
    "                else:\n",
    "                    y_pred.append(rigth_node_pred)\n",
    "            y_pred = np.array(y_pred).reshape(-1,)\n",
    "            score = np.mean((y - y_pred)**2)\n",
    "            if split_score > score:\n",
    "                split_score = score\n",
    "                split_threshold = threshold\n",
    "                split_left_pred = left_node_pred\n",
    "                split_right_pred = rigth_node_pred\n",
    "        return split_score, split_threshold, split_left_pred, split_right_pred \n",
    "        \n",
    "    def get_best_split(self, X, y):\n",
    "        best_split = [float('inf')]\n",
    "        best_feature = None \n",
    "        for idx in range(len(X)):\n",
    "            feature = X[idx, :]\n",
    "            split_result = self.make_split_feature(feature, y)\n",
    "            if best_split[0] > split_result[0]:\n",
    "                best_split = split_result\n",
    "                best_feature = idx\n",
    "        self.split_score, self.split_threshold, \\\n",
    "            self.split_left_pred, self.split_right_pred = best_split\n",
    "        self.split_feature = best_feature\n",
    "        \n",
    "        \n",
    "    def train(self, X, y):\n",
    "        \"\"\"\n",
    "        X: (n:number of features, m:sample size)\n",
    "        y: (m, )\n",
    "        \"\"\"\n",
    "        X = X.T\n",
    "        self.initialize()\n",
    "        self.get_best_split(X, y)\n",
    "    \n",
    "    def predict(self, X):\n",
    "        X = X.T\n",
    "        y_pred = []\n",
    "        for feature in X[self.split_feature, :]:\n",
    "            if feature < self.split_threshold:\n",
    "                y_pred.append(self.split_left_pred)\n",
    "            else: \n",
    "                y_pred.append(self.split_right_pred)\n",
    "        return np.array(y_pred)\n",
    "        \n",
    "\n",
    "tr = TreeRegressor_numpy()\n",
    "tr.train(X, y)\n",
    "tr.predict(X)\n",
    "print(f\"split features: {feature_names[tr.split_feature]}\")\n",
    "print(f\"split threshold: {tr.split_threshold:0.3f}\")\n",
    "print(f\"left node prediction: {tr.split_left_pred:0.3f}\")\n",
    "print(f\"right node prediction: {tr.split_right_pred:0.3f}\")\n"
   ]
  },
  {
   "cell_type": "code",
   "execution_count": 24,
   "metadata": {},
   "outputs": [
    {
     "data": {
      "text/plain": [
       "[Text(0.5, 0.75, 'f_1 <= -0.286\\nsquared_error = 794.239\\nsamples = 10\\nvalue = 5.066'),\n",
       " Text(0.25, 0.25, 'squared_error = 78.623\\nsamples = 4\\nvalue = -25.173'),\n",
       " Text(0.75, 0.25, 'squared_error = 255.274\\nsamples = 6\\nvalue = 25.226')]"
      ]
     },
     "execution_count": 24,
     "metadata": {},
     "output_type": "execute_result"
    },
    {
     "data": {
      "image/png": "[encoded data removed]",
      "text/plain": [
       "<Figure size 400x400 with 1 Axes>"
      ]
     },
     "metadata": {},
     "output_type": "display_data"
    }
   ],
   "source": [
    "import matplotlib.pyplot as plt \n",
    "from sklearn.tree import DecisionTreeRegressor, plot_tree\n",
    "\n",
    "dt = DecisionTreeRegressor(\n",
    "    criterion='squared_error', splitter='best', max_depth=1)\n",
    "\n",
    "dt.fit(X,y)\n",
    "plt.figure(figsize=(4,4))\n",
    "plot_tree(dt, filled=True, feature_names=feature_names)"
   ]
  },
  {
   "cell_type": "code",
   "execution_count": null,
   "metadata": {},
   "outputs": [],
   "source": []
  }
 ],
 "metadata": {
  "kernelspec": {
   "display_name": "tf",
   "language": "python",
   "name": "python3"
  },
  "language_info": {
   "codemirror_mode": {
    "name": "ipython",
    "version": 3
   },
   "file_extension": ".py",
   "mimetype": "text/x-python",
   "name": "python",
   "nbconvert_exporter": "python",
   "pygments_lexer": "ipython3",
   "version": "3.8.19"
  }
 },
 "nbformat": 4,
 "nbformat_minor": 2
}
