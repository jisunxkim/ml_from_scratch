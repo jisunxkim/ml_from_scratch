{
 "cells": [
  {
   "cell_type": "markdown",
   "metadata": {},
   "source": [
    "# Building Linear Regression From Scratch\n",
    "equation source: https://towardsdatascience.com/optimization-of-supervised-learning-loss-function-under-the-hood-df1791391c82\n",
    "\n",
    "Math Fomula\n",
    "- Prediction Function (hypothesis $h_\\theta(x^{(i)}) $):\n",
    "$$h_\\theta(x^{(i)}) = {\\theta_0}{x_0} + {\\theta_1}{x_1} + ... + {\\theta_j}{x_j}$$\n",
    "where  \n",
    "        $x_{0}=1$  \n",
    "        $i =$ the number of data  \n",
    "        $j =$ the number of features  \n",
    "        $x^{i}_{j}=$ $i^{th}$ data of $j^{th}$ feature   \n",
    "  \n",
    "- Least Square Error:  \n",
    "$$\\frac{1}{2}(h_{\\theta}(x^{(i)}) - y^{(i)})^2$$\n",
    "\n",
    "- Cost Function: Sum of the Least Square Error of all data \n",
    "$$J(\\theta) = \\frac{1}{2m}\\sum_{i=1}^{m}(h_{\\theta}(x^{(i)}) - y^{(i)})^2$$\n",
    "where  \n",
    "        $m=$ number of data\n",
    "\n",
    "- Derivative of the cost function at $\\theta_j$  \n",
    "$$\\frac{\\partial {J(\\theta)}}{\\partial {\\theta_j}} = \\frac{1}{m} \\sum_{i=1}^{m}{(h_{\\theta}(x^{(i)}) - y^{(i)}) x^{(i)}_{j}}$$\n",
    "\n",
    "$$\\theta^{'}_{0} = \\theta_{0} - \\alpha \\frac{1}{m} \\sum_{i=1}^{m}{(h_{\\theta}(x^{(i)}) - y^{(i)})x^{(i)}_{0}}\\\\ \n",
    "\\theta^{'}_{1} = \\theta_{1} - \\alpha \\frac{1}{m} \\sum_{i=1}^{m}{(h_{\\theta}(x^{(i)}) - y^{(i)})x^{(i)}_{1}}\\\\ \n",
    "...... \\\\\n",
    "\\theta^{'}_{j} = \\theta_{j} - \\alpha \\frac{1}{m} \\sum_{i=1}^{m}{(h_{\\theta}(x^{(i)}) - y^{(i)})x^{(i)}_{j}}$$"
   ]
  },
  {
   "cell_type": "code",
   "execution_count": 2,
   "metadata": {},
   "outputs": [],
   "source": [
    "import numpy as np \n",
    "import matplotlib.pyplot as plt "
   ]
  },
  {
   "cell_type": "code",
   "execution_count": 23,
   "metadata": {},
   "outputs": [
    {
     "name": "stdout",
     "output_type": "stream",
     "text": [
      "[-63  40 -28]\n",
      "[4.17022005e-01 7.20324493e-01 1.14374817e-04]\n",
      "2.537390946538504\n",
      "2.5373909465385043\n"
     ]
    }
   ],
   "source": [
    "# generate data\n",
    "def regression_data(m: int, n: int, random_status: int = 1):\n",
    "    \"\"\"\n",
    "    generate data for linear regression model\n",
    "    args:\n",
    "        m: number of samples\n",
    "        n: number of features\n",
    "    \"\"\"\n",
    "    np.random.seed(random_status)\n",
    "    X = np.random.randint(-100, 100, size=(m, n))\n",
    "    np.random.seed(random_status)\n",
    "    weights = np.random.random(size=(n))\n",
    "    y = X@weights\n",
    "    \n",
    "    return X, y, weights\n",
    "\n",
    "X, y, true_weights = regression_data(100, 3)\n",
    "\n",
    "# validate\n",
    "print(X[0, :])\n",
    "print(true_weights)\n",
    "print(X[0, :]@true_weights)\n",
    "print(y[0])"
   ]
  }
 ],
 "metadata": {
  "kernelspec": {
   "display_name": "ds",
   "language": "python",
   "name": "python3"
  },
  "language_info": {
   "codemirror_mode": {
    "name": "ipython",
    "version": 3
   },
   "file_extension": ".py",
   "mimetype": "text/x-python",
   "name": "python",
   "nbconvert_exporter": "python",
   "pygments_lexer": "ipython3",
   "version": "3.10.13"
  }
 },
 "nbformat": 4,
 "nbformat_minor": 2
}
