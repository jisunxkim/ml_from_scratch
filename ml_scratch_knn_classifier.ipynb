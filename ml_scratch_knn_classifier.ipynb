{
 "cells": [
  {
   "cell_type": "code",
   "execution_count": 8,
   "metadata": {},
   "outputs": [],
   "source": [
    "from sklearn import datasets\n",
    "\n",
    "data = datasets.load_iris()\n",
    "X = data.data\n",
    "y = data.target\n",
    "labels = data.target_names\n",
    "faetures_name = data.feature_names"
   ]
  },
  {
   "cell_type": "code",
   "execution_count": 62,
   "metadata": {},
   "outputs": [
    {
     "name": "stdout",
     "output_type": "stream",
     "text": [
      "[(0, 0), (2, 2), (2, 1), (2, 2), (1, 2), (1, 1), (2, 2), (2, 2), (1, 1), (2, 2)]\n"
     ]
    }
   ],
   "source": [
    "import numpy as np \n",
    "\n",
    "class KNNClassifer:\n",
    "    def __init__(self, k=3):\n",
    "        self.k=3\n",
    "    \n",
    "    def train(self, X, y):\n",
    "        self.train_X = X # (m, n)\n",
    "        self.train_y = y\n",
    "        self.labels = np.unique(y)\n",
    "     \n",
    "    def predict(self, X):\n",
    "        if not isinstance(X[0], np.ndarray):\n",
    "            X = X[np.newaxis, :]\n",
    "            print(X.shape)\n",
    "        prediction = []\n",
    "        for x in X:\n",
    "            distance = np.linalg.norm(self.train_X - x, axis=1)\n",
    "            close_x_idx = np.argsort(distance)[:self.k]\n",
    "            close_labels = self.train_y[close_x_idx]\n",
    "            labels_count = np.zeros(len(self.labels))\n",
    "            val, cnt = np.unique(close_labels, return_counts=True)\n",
    "            for val, cnt in zip(val, cnt):\n",
    "                labels_count[val] = cnt \n",
    "            pred_label = np.argmax(labels_count)\n",
    "            prediction.append(pred_label)\n",
    "            \n",
    "        return prediction\n",
    "    \n"
   ]
  },
  {
   "cell_type": "code",
   "execution_count": 65,
   "metadata": {},
   "outputs": [
    {
     "name": "stdout",
     "output_type": "stream",
     "text": [
      "accuracy: 0.96\n"
     ]
    }
   ],
   "source": [
    "knn = KNNClassifer()\n",
    "knn.train(X, y)\n",
    "np.random.seed(1)\n",
    "data_idx = np.random.choice(len(y), size=50)\n",
    "test_X = X[data_idx, :] \n",
    "test_y = y[data_idx]\n",
    "pred_y = knn.predict(test_X)\n",
    "\n",
    "from sklearn.metrics import accuracy_score\n",
    "print(f\"accuracy: {accuracy_score(test_y, pred_y):0.2f}\")"
   ]
  }
 ],
 "metadata": {
  "kernelspec": {
   "display_name": "ds",
   "language": "python",
   "name": "python3"
  },
  "language_info": {
   "codemirror_mode": {
    "name": "ipython",
    "version": 3
   },
   "file_extension": ".py",
   "mimetype": "text/x-python",
   "name": "python",
   "nbconvert_exporter": "python",
   "pygments_lexer": "ipython3",
   "version": "3.8.19"
  }
 },
 "nbformat": 4,
 "nbformat_minor": 2
}
