{
 "cells": [
  {
   "cell_type": "markdown",
   "metadata": {},
   "source": [
    "# Building Support Vector Machine (SVM) From Scratch  \n",
    "Formula source: https://towardsdatascience.com/optimization-loss-function-under-the-hood-part-iii-5dff33fa015d \n",
    "  \n",
    "Math Fomula\n",
    "- Prediction Function (hypothesis $h_\\theta(x^{(i)}) $):\n",
    "\n",
    "- cost function: Binary Cross Entropy Loss Function (Log Loss) . \n",
    "\n",
    "- Derivative of the cost function at $\\theta_j$ "
   ]
  }
 ],
 "metadata": {
  "language_info": {
   "name": "python"
  }
 },
 "nbformat": 4,
 "nbformat_minor": 2
}
